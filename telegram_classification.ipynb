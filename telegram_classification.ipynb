{
  "nbformat": 4,
  "nbformat_minor": 0,
  "metadata": {
    "colab": {
      "provenance": [],
      "authorship_tag": "ABX9TyMTAjooVBwt8TPQHf2owBEE",
      "include_colab_link": true
    },
    "kernelspec": {
      "name": "python3",
      "display_name": "Python 3"
    },
    "language_info": {
      "name": "python"
    }
  },
  "cells": [
    {
      "cell_type": "markdown",
      "metadata": {
        "id": "view-in-github",
        "colab_type": "text"
      },
      "source": [
        "<a href=\"https://colab.research.google.com/github/Chunlangg/telegram-media-download-tutorial/blob/main/telegram_classification.ipynb\" target=\"_parent\"><img src=\"https://colab.research.google.com/assets/colab-badge.svg\" alt=\"Open In Colab\"/></a>"
      ]
    },
    {
      "cell_type": "markdown",
      "source": [
        "Our aim is to classify the post of the telegram customer into predefined categories using a suitable classification algorithm. For now, we will be using the following classification algorithms.\n",
        "*   Neural Network\n",
        "*   Support Vector Machine (SVM)\n",
        "*   Adaboost"
      ],
      "metadata": {
        "id": "jhTi15T_m1ea"
      }
    },
    {
      "cell_type": "code",
      "execution_count": null,
      "metadata": {
        "colab": {
          "base_uri": "https://localhost:8080/",
          "height": 74
        },
        "id": "dOk-9nHH0KSx",
        "outputId": "dacbf6f0-7ec3-47aa-ed09-a7d23f7bcb82"
      },
      "outputs": [
        {
          "output_type": "display_data",
          "data": {
            "text/plain": [
              "<IPython.core.display.HTML object>"
            ],
            "text/html": [
              "\n",
              "     <input type=\"file\" id=\"files-fc8c57ff-949f-4667-be5f-665f73f434dc\" name=\"files[]\" multiple disabled\n",
              "        style=\"border:none\" />\n",
              "     <output id=\"result-fc8c57ff-949f-4667-be5f-665f73f434dc\">\n",
              "      Upload widget is only available when the cell has been executed in the\n",
              "      current browser session. Please rerun this cell to enable.\n",
              "      </output>\n",
              "      <script>// Copyright 2017 Google LLC\n",
              "//\n",
              "// Licensed under the Apache License, Version 2.0 (the \"License\");\n",
              "// you may not use this file except in compliance with the License.\n",
              "// You may obtain a copy of the License at\n",
              "//\n",
              "//      http://www.apache.org/licenses/LICENSE-2.0\n",
              "//\n",
              "// Unless required by applicable law or agreed to in writing, software\n",
              "// distributed under the License is distributed on an \"AS IS\" BASIS,\n",
              "// WITHOUT WARRANTIES OR CONDITIONS OF ANY KIND, either express or implied.\n",
              "// See the License for the specific language governing permissions and\n",
              "// limitations under the License.\n",
              "\n",
              "/**\n",
              " * @fileoverview Helpers for google.colab Python module.\n",
              " */\n",
              "(function(scope) {\n",
              "function span(text, styleAttributes = {}) {\n",
              "  const element = document.createElement('span');\n",
              "  element.textContent = text;\n",
              "  for (const key of Object.keys(styleAttributes)) {\n",
              "    element.style[key] = styleAttributes[key];\n",
              "  }\n",
              "  return element;\n",
              "}\n",
              "\n",
              "// Max number of bytes which will be uploaded at a time.\n",
              "const MAX_PAYLOAD_SIZE = 100 * 1024;\n",
              "\n",
              "function _uploadFiles(inputId, outputId) {\n",
              "  const steps = uploadFilesStep(inputId, outputId);\n",
              "  const outputElement = document.getElementById(outputId);\n",
              "  // Cache steps on the outputElement to make it available for the next call\n",
              "  // to uploadFilesContinue from Python.\n",
              "  outputElement.steps = steps;\n",
              "\n",
              "  return _uploadFilesContinue(outputId);\n",
              "}\n",
              "\n",
              "// This is roughly an async generator (not supported in the browser yet),\n",
              "// where there are multiple asynchronous steps and the Python side is going\n",
              "// to poll for completion of each step.\n",
              "// This uses a Promise to block the python side on completion of each step,\n",
              "// then passes the result of the previous step as the input to the next step.\n",
              "function _uploadFilesContinue(outputId) {\n",
              "  const outputElement = document.getElementById(outputId);\n",
              "  const steps = outputElement.steps;\n",
              "\n",
              "  const next = steps.next(outputElement.lastPromiseValue);\n",
              "  return Promise.resolve(next.value.promise).then((value) => {\n",
              "    // Cache the last promise value to make it available to the next\n",
              "    // step of the generator.\n",
              "    outputElement.lastPromiseValue = value;\n",
              "    return next.value.response;\n",
              "  });\n",
              "}\n",
              "\n",
              "/**\n",
              " * Generator function which is called between each async step of the upload\n",
              " * process.\n",
              " * @param {string} inputId Element ID of the input file picker element.\n",
              " * @param {string} outputId Element ID of the output display.\n",
              " * @return {!Iterable<!Object>} Iterable of next steps.\n",
              " */\n",
              "function* uploadFilesStep(inputId, outputId) {\n",
              "  const inputElement = document.getElementById(inputId);\n",
              "  inputElement.disabled = false;\n",
              "\n",
              "  const outputElement = document.getElementById(outputId);\n",
              "  outputElement.innerHTML = '';\n",
              "\n",
              "  const pickedPromise = new Promise((resolve) => {\n",
              "    inputElement.addEventListener('change', (e) => {\n",
              "      resolve(e.target.files);\n",
              "    });\n",
              "  });\n",
              "\n",
              "  const cancel = document.createElement('button');\n",
              "  inputElement.parentElement.appendChild(cancel);\n",
              "  cancel.textContent = 'Cancel upload';\n",
              "  const cancelPromise = new Promise((resolve) => {\n",
              "    cancel.onclick = () => {\n",
              "      resolve(null);\n",
              "    };\n",
              "  });\n",
              "\n",
              "  // Wait for the user to pick the files.\n",
              "  const files = yield {\n",
              "    promise: Promise.race([pickedPromise, cancelPromise]),\n",
              "    response: {\n",
              "      action: 'starting',\n",
              "    }\n",
              "  };\n",
              "\n",
              "  cancel.remove();\n",
              "\n",
              "  // Disable the input element since further picks are not allowed.\n",
              "  inputElement.disabled = true;\n",
              "\n",
              "  if (!files) {\n",
              "    return {\n",
              "      response: {\n",
              "        action: 'complete',\n",
              "      }\n",
              "    };\n",
              "  }\n",
              "\n",
              "  for (const file of files) {\n",
              "    const li = document.createElement('li');\n",
              "    li.append(span(file.name, {fontWeight: 'bold'}));\n",
              "    li.append(span(\n",
              "        `(${file.type || 'n/a'}) - ${file.size} bytes, ` +\n",
              "        `last modified: ${\n",
              "            file.lastModifiedDate ? file.lastModifiedDate.toLocaleDateString() :\n",
              "                                    'n/a'} - `));\n",
              "    const percent = span('0% done');\n",
              "    li.appendChild(percent);\n",
              "\n",
              "    outputElement.appendChild(li);\n",
              "\n",
              "    const fileDataPromise = new Promise((resolve) => {\n",
              "      const reader = new FileReader();\n",
              "      reader.onload = (e) => {\n",
              "        resolve(e.target.result);\n",
              "      };\n",
              "      reader.readAsArrayBuffer(file);\n",
              "    });\n",
              "    // Wait for the data to be ready.\n",
              "    let fileData = yield {\n",
              "      promise: fileDataPromise,\n",
              "      response: {\n",
              "        action: 'continue',\n",
              "      }\n",
              "    };\n",
              "\n",
              "    // Use a chunked sending to avoid message size limits. See b/62115660.\n",
              "    let position = 0;\n",
              "    do {\n",
              "      const length = Math.min(fileData.byteLength - position, MAX_PAYLOAD_SIZE);\n",
              "      const chunk = new Uint8Array(fileData, position, length);\n",
              "      position += length;\n",
              "\n",
              "      const base64 = btoa(String.fromCharCode.apply(null, chunk));\n",
              "      yield {\n",
              "        response: {\n",
              "          action: 'append',\n",
              "          file: file.name,\n",
              "          data: base64,\n",
              "        },\n",
              "      };\n",
              "\n",
              "      let percentDone = fileData.byteLength === 0 ?\n",
              "          100 :\n",
              "          Math.round((position / fileData.byteLength) * 100);\n",
              "      percent.textContent = `${percentDone}% done`;\n",
              "\n",
              "    } while (position < fileData.byteLength);\n",
              "  }\n",
              "\n",
              "  // All done.\n",
              "  yield {\n",
              "    response: {\n",
              "      action: 'complete',\n",
              "    }\n",
              "  };\n",
              "}\n",
              "\n",
              "scope.google = scope.google || {};\n",
              "scope.google.colab = scope.google.colab || {};\n",
              "scope.google.colab._files = {\n",
              "  _uploadFiles,\n",
              "  _uploadFilesContinue,\n",
              "};\n",
              "})(self);\n",
              "</script> "
            ]
          },
          "metadata": {}
        },
        {
          "output_type": "stream",
          "name": "stdout",
          "text": [
            "Saving message_final.xlsx to message_final.xlsx\n"
          ]
        }
      ],
      "source": [
        "# import the database\n",
        "\n",
        "from google.colab import files\n",
        "upload= files.upload()"
      ]
    },
    {
      "cell_type": "code",
      "source": [
        "import numpy as np\n",
        "import pandas as pd\n",
        "from scipy.stats import randint\n",
        "import seaborn as sns # used for plot interactive graph.\n",
        "import matplotlib.pyplot as plt\n",
        "import seaborn as sns\n",
        "from io import StringIO\n",
        "from sklearn.feature_extraction.text import TfidfVectorizer\n",
        "from sklearn.feature_selection import chi2\n",
        "from IPython.display import display\n",
        "from sklearn.model_selection import train_test_split\n",
        "from sklearn.feature_extraction.text import TfidfTransformer\n",
        "# for AdaBoostClassifier\n",
        "from sklearn.ensemble import AdaBoostClassifier\n",
        "# for Neural Network\n",
        "import torch\n",
        "import torch.nn as nn\n",
        "# for svm\n",
        "from sklearn.svm import LinearSVC\n",
        "from sklearn.model_selection import cross_val_score\n",
        "from sklearn.metrics import confusion_matrix\n",
        "from sklearn import metrics\n"
      ],
      "metadata": {
        "id": "El-b9_ZEQp8-"
      },
      "execution_count": null,
      "outputs": []
    },
    {
      "cell_type": "code",
      "source": [
        "#  get the data\n",
        "dataset = pd.read_excel('message_final.xlsx', index_col=None)\n",
        "print(dataset.shape)"
      ],
      "metadata": {
        "colab": {
          "base_uri": "https://localhost:8080/"
        },
        "id": "Ag4cd8YZQrq4",
        "outputId": "f9a3306c-03c9-4048-ca14-1f220eeb5343"
      },
      "execution_count": null,
      "outputs": [
        {
          "output_type": "stream",
          "name": "stdout",
          "text": [
            "(2135, 7)\n"
          ]
        }
      ]
    },
    {
      "cell_type": "markdown",
      "source": [
        "#1.Data clean"
      ],
      "metadata": {
        "id": "eKl2wmQMO095"
      }
    },
    {
      "cell_type": "code",
      "source": [
        "dataset.head().T"
      ],
      "metadata": {
        "colab": {
          "base_uri": "https://localhost:8080/",
          "height": 365
        },
        "id": "pkdLuWzuN1s9",
        "outputId": "be1e20f1-26b6-4e1a-9f31-05d0b272a9ea"
      },
      "execution_count": null,
      "outputs": [
        {
          "output_type": "execute_result",
          "data": {
            "text/plain": [
              "                                                                0  \\\n",
              "id                                                           5447   \n",
              "postTime                                      2020-02-25 02:12:53   \n",
              "seller          \\nDiscount gift cards(vanilla,Amazon,Sephora,B...   \n",
              "postDetail      $500.00:False:Active 50%  Sold$250.00:False:In...   \n",
              "fk_channels_id                                                  1   \n",
              "image_src                                                 Unknown   \n",
              "category                                                      1.0   \n",
              "\n",
              "                                                                1  \\\n",
              "id                                                           5448   \n",
              "postTime                                      2020-02-25 11:24:23   \n",
              "seller          \\nDiscount gift cards(vanilla,Amazon,Sephora,B...   \n",
              "postDetail      $143.31:False:Active 50%   SOLD$130.19:False:A...   \n",
              "fk_channels_id                                                  1   \n",
              "image_src                              https://t.me/BitconisandGC   \n",
              "category                                                      1.0   \n",
              "\n",
              "                                                     2  \\\n",
              "id                                                5449   \n",
              "postTime                           2020-02-25 11:39:05   \n",
              "seller                                             NaN   \n",
              "postDetail                                         NaN   \n",
              "fk_channels_id                                       1   \n",
              "image_src       photos/photo_1@25-02-2020_11-39-05.jpg   \n",
              "category                                           1.0   \n",
              "\n",
              "                                                                3  \\\n",
              "id                                                           5450   \n",
              "postTime                                      2020-02-25 11:39:15   \n",
              "seller                                                        NaN   \n",
              "postDetail      \\nalmost all vanilla are sold,please check the...   \n",
              "fk_channels_id                                                  1   \n",
              "image_src                  photos/photo_1@25-02-2020_11-39-05.jpg   \n",
              "category                                                      1.0   \n",
              "\n",
              "                                                     4  \n",
              "id                                                5451  \n",
              "postTime                           2020-02-25 11:45:11  \n",
              "seller                                             NaN  \n",
              "postDetail                                         NaN  \n",
              "fk_channels_id                                       1  \n",
              "image_src       photos/photo_2@25-02-2020_11-45-11.jpg  \n",
              "category                                           1.0  "
            ],
            "text/html": [
              "\n",
              "  <div id=\"df-37e90c74-3934-43af-824d-b5f469f2f006\">\n",
              "    <div class=\"colab-df-container\">\n",
              "      <div>\n",
              "<style scoped>\n",
              "    .dataframe tbody tr th:only-of-type {\n",
              "        vertical-align: middle;\n",
              "    }\n",
              "\n",
              "    .dataframe tbody tr th {\n",
              "        vertical-align: top;\n",
              "    }\n",
              "\n",
              "    .dataframe thead th {\n",
              "        text-align: right;\n",
              "    }\n",
              "</style>\n",
              "<table border=\"1\" class=\"dataframe\">\n",
              "  <thead>\n",
              "    <tr style=\"text-align: right;\">\n",
              "      <th></th>\n",
              "      <th>0</th>\n",
              "      <th>1</th>\n",
              "      <th>2</th>\n",
              "      <th>3</th>\n",
              "      <th>4</th>\n",
              "    </tr>\n",
              "  </thead>\n",
              "  <tbody>\n",
              "    <tr>\n",
              "      <th>id</th>\n",
              "      <td>5447</td>\n",
              "      <td>5448</td>\n",
              "      <td>5449</td>\n",
              "      <td>5450</td>\n",
              "      <td>5451</td>\n",
              "    </tr>\n",
              "    <tr>\n",
              "      <th>postTime</th>\n",
              "      <td>2020-02-25 02:12:53</td>\n",
              "      <td>2020-02-25 11:24:23</td>\n",
              "      <td>2020-02-25 11:39:05</td>\n",
              "      <td>2020-02-25 11:39:15</td>\n",
              "      <td>2020-02-25 11:45:11</td>\n",
              "    </tr>\n",
              "    <tr>\n",
              "      <th>seller</th>\n",
              "      <td>\\nDiscount gift cards(vanilla,Amazon,Sephora,B...</td>\n",
              "      <td>\\nDiscount gift cards(vanilla,Amazon,Sephora,B...</td>\n",
              "      <td>NaN</td>\n",
              "      <td>NaN</td>\n",
              "      <td>NaN</td>\n",
              "    </tr>\n",
              "    <tr>\n",
              "      <th>postDetail</th>\n",
              "      <td>$500.00:False:Active 50%  Sold$250.00:False:In...</td>\n",
              "      <td>$143.31:False:Active 50%   SOLD$130.19:False:A...</td>\n",
              "      <td>NaN</td>\n",
              "      <td>\\nalmost all vanilla are sold,please check the...</td>\n",
              "      <td>NaN</td>\n",
              "    </tr>\n",
              "    <tr>\n",
              "      <th>fk_channels_id</th>\n",
              "      <td>1</td>\n",
              "      <td>1</td>\n",
              "      <td>1</td>\n",
              "      <td>1</td>\n",
              "      <td>1</td>\n",
              "    </tr>\n",
              "    <tr>\n",
              "      <th>image_src</th>\n",
              "      <td>Unknown</td>\n",
              "      <td>https://t.me/BitconisandGC</td>\n",
              "      <td>photos/photo_1@25-02-2020_11-39-05.jpg</td>\n",
              "      <td>photos/photo_1@25-02-2020_11-39-05.jpg</td>\n",
              "      <td>photos/photo_2@25-02-2020_11-45-11.jpg</td>\n",
              "    </tr>\n",
              "    <tr>\n",
              "      <th>category</th>\n",
              "      <td>1.0</td>\n",
              "      <td>1.0</td>\n",
              "      <td>1.0</td>\n",
              "      <td>1.0</td>\n",
              "      <td>1.0</td>\n",
              "    </tr>\n",
              "  </tbody>\n",
              "</table>\n",
              "</div>\n",
              "      <button class=\"colab-df-convert\" onclick=\"convertToInteractive('df-37e90c74-3934-43af-824d-b5f469f2f006')\"\n",
              "              title=\"Convert this dataframe to an interactive table.\"\n",
              "              style=\"display:none;\">\n",
              "        \n",
              "  <svg xmlns=\"http://www.w3.org/2000/svg\" height=\"24px\"viewBox=\"0 0 24 24\"\n",
              "       width=\"24px\">\n",
              "    <path d=\"M0 0h24v24H0V0z\" fill=\"none\"/>\n",
              "    <path d=\"M18.56 5.44l.94 2.06.94-2.06 2.06-.94-2.06-.94-.94-2.06-.94 2.06-2.06.94zm-11 1L8.5 8.5l.94-2.06 2.06-.94-2.06-.94L8.5 2.5l-.94 2.06-2.06.94zm10 10l.94 2.06.94-2.06 2.06-.94-2.06-.94-.94-2.06-.94 2.06-2.06.94z\"/><path d=\"M17.41 7.96l-1.37-1.37c-.4-.4-.92-.59-1.43-.59-.52 0-1.04.2-1.43.59L10.3 9.45l-7.72 7.72c-.78.78-.78 2.05 0 2.83L4 21.41c.39.39.9.59 1.41.59.51 0 1.02-.2 1.41-.59l7.78-7.78 2.81-2.81c.8-.78.8-2.07 0-2.86zM5.41 20L4 18.59l7.72-7.72 1.47 1.35L5.41 20z\"/>\n",
              "  </svg>\n",
              "      </button>\n",
              "      \n",
              "  <style>\n",
              "    .colab-df-container {\n",
              "      display:flex;\n",
              "      flex-wrap:wrap;\n",
              "      gap: 12px;\n",
              "    }\n",
              "\n",
              "    .colab-df-convert {\n",
              "      background-color: #E8F0FE;\n",
              "      border: none;\n",
              "      border-radius: 50%;\n",
              "      cursor: pointer;\n",
              "      display: none;\n",
              "      fill: #1967D2;\n",
              "      height: 32px;\n",
              "      padding: 0 0 0 0;\n",
              "      width: 32px;\n",
              "    }\n",
              "\n",
              "    .colab-df-convert:hover {\n",
              "      background-color: #E2EBFA;\n",
              "      box-shadow: 0px 1px 2px rgba(60, 64, 67, 0.3), 0px 1px 3px 1px rgba(60, 64, 67, 0.15);\n",
              "      fill: #174EA6;\n",
              "    }\n",
              "\n",
              "    [theme=dark] .colab-df-convert {\n",
              "      background-color: #3B4455;\n",
              "      fill: #D2E3FC;\n",
              "    }\n",
              "\n",
              "    [theme=dark] .colab-df-convert:hover {\n",
              "      background-color: #434B5C;\n",
              "      box-shadow: 0px 1px 3px 1px rgba(0, 0, 0, 0.15);\n",
              "      filter: drop-shadow(0px 1px 2px rgba(0, 0, 0, 0.3));\n",
              "      fill: #FFFFFF;\n",
              "    }\n",
              "  </style>\n",
              "\n",
              "      <script>\n",
              "        const buttonEl =\n",
              "          document.querySelector('#df-37e90c74-3934-43af-824d-b5f469f2f006 button.colab-df-convert');\n",
              "        buttonEl.style.display =\n",
              "          google.colab.kernel.accessAllowed ? 'block' : 'none';\n",
              "\n",
              "        async function convertToInteractive(key) {\n",
              "          const element = document.querySelector('#df-37e90c74-3934-43af-824d-b5f469f2f006');\n",
              "          const dataTable =\n",
              "            await google.colab.kernel.invokeFunction('convertToInteractive',\n",
              "                                                     [key], {});\n",
              "          if (!dataTable) return;\n",
              "\n",
              "          const docLinkHtml = 'Like what you see? Visit the ' +\n",
              "            '<a target=\"_blank\" href=https://colab.research.google.com/notebooks/data_table.ipynb>data table notebook</a>'\n",
              "            + ' to learn more about interactive tables.';\n",
              "          element.innerHTML = '';\n",
              "          dataTable['output_type'] = 'display_data';\n",
              "          await google.colab.output.renderOutput(dataTable, element);\n",
              "          const docLink = document.createElement('div');\n",
              "          docLink.innerHTML = docLinkHtml;\n",
              "          element.appendChild(docLink);\n",
              "        }\n",
              "      </script>\n",
              "    </div>\n",
              "  </div>\n",
              "  "
            ]
          },
          "metadata": {},
          "execution_count": 5
        }
      ]
    },
    {
      "cell_type": "markdown",
      "source": [
        "Now, for our multi-class text classification task, we will be using only two of these columns out of 7, that is the column with the name  postDetail and category"
      ],
      "metadata": {
        "id": "Tmjy-RksPfqL"
      }
    },
    {
      "cell_type": "code",
      "source": [
        "# Create a new dataframe with two columns\n",
        "df = dataset[['postDetail', 'category']].copy()\n",
        "df.head().T"
      ],
      "metadata": {
        "colab": {
          "base_uri": "https://localhost:8080/",
          "height": 112
        },
        "id": "9duucK0DQd7x",
        "outputId": "e51394df-d442-448b-c1a8-34b6ebe80078"
      },
      "execution_count": null,
      "outputs": [
        {
          "output_type": "execute_result",
          "data": {
            "text/plain": [
              "                                                            0  \\\n",
              "postDetail  $500.00:False:Active 50%  Sold$250.00:False:In...   \n",
              "category                                                  1.0   \n",
              "\n",
              "                                                            1    2  \\\n",
              "postDetail  $143.31:False:Active 50%   SOLD$130.19:False:A...  NaN   \n",
              "category                                                  1.0  1.0   \n",
              "\n",
              "                                                            3    4  \n",
              "postDetail  \\nalmost all vanilla are sold,please check the...  NaN  \n",
              "category                                                  1.0  1.0  "
            ],
            "text/html": [
              "\n",
              "  <div id=\"df-99d84e57-0305-4ba8-ac97-ff6e0366e806\">\n",
              "    <div class=\"colab-df-container\">\n",
              "      <div>\n",
              "<style scoped>\n",
              "    .dataframe tbody tr th:only-of-type {\n",
              "        vertical-align: middle;\n",
              "    }\n",
              "\n",
              "    .dataframe tbody tr th {\n",
              "        vertical-align: top;\n",
              "    }\n",
              "\n",
              "    .dataframe thead th {\n",
              "        text-align: right;\n",
              "    }\n",
              "</style>\n",
              "<table border=\"1\" class=\"dataframe\">\n",
              "  <thead>\n",
              "    <tr style=\"text-align: right;\">\n",
              "      <th></th>\n",
              "      <th>0</th>\n",
              "      <th>1</th>\n",
              "      <th>2</th>\n",
              "      <th>3</th>\n",
              "      <th>4</th>\n",
              "    </tr>\n",
              "  </thead>\n",
              "  <tbody>\n",
              "    <tr>\n",
              "      <th>postDetail</th>\n",
              "      <td>$500.00:False:Active 50%  Sold$250.00:False:In...</td>\n",
              "      <td>$143.31:False:Active 50%   SOLD$130.19:False:A...</td>\n",
              "      <td>NaN</td>\n",
              "      <td>\\nalmost all vanilla are sold,please check the...</td>\n",
              "      <td>NaN</td>\n",
              "    </tr>\n",
              "    <tr>\n",
              "      <th>category</th>\n",
              "      <td>1.0</td>\n",
              "      <td>1.0</td>\n",
              "      <td>1.0</td>\n",
              "      <td>1.0</td>\n",
              "      <td>1.0</td>\n",
              "    </tr>\n",
              "  </tbody>\n",
              "</table>\n",
              "</div>\n",
              "      <button class=\"colab-df-convert\" onclick=\"convertToInteractive('df-99d84e57-0305-4ba8-ac97-ff6e0366e806')\"\n",
              "              title=\"Convert this dataframe to an interactive table.\"\n",
              "              style=\"display:none;\">\n",
              "        \n",
              "  <svg xmlns=\"http://www.w3.org/2000/svg\" height=\"24px\"viewBox=\"0 0 24 24\"\n",
              "       width=\"24px\">\n",
              "    <path d=\"M0 0h24v24H0V0z\" fill=\"none\"/>\n",
              "    <path d=\"M18.56 5.44l.94 2.06.94-2.06 2.06-.94-2.06-.94-.94-2.06-.94 2.06-2.06.94zm-11 1L8.5 8.5l.94-2.06 2.06-.94-2.06-.94L8.5 2.5l-.94 2.06-2.06.94zm10 10l.94 2.06.94-2.06 2.06-.94-2.06-.94-.94-2.06-.94 2.06-2.06.94z\"/><path d=\"M17.41 7.96l-1.37-1.37c-.4-.4-.92-.59-1.43-.59-.52 0-1.04.2-1.43.59L10.3 9.45l-7.72 7.72c-.78.78-.78 2.05 0 2.83L4 21.41c.39.39.9.59 1.41.59.51 0 1.02-.2 1.41-.59l7.78-7.78 2.81-2.81c.8-.78.8-2.07 0-2.86zM5.41 20L4 18.59l7.72-7.72 1.47 1.35L5.41 20z\"/>\n",
              "  </svg>\n",
              "      </button>\n",
              "      \n",
              "  <style>\n",
              "    .colab-df-container {\n",
              "      display:flex;\n",
              "      flex-wrap:wrap;\n",
              "      gap: 12px;\n",
              "    }\n",
              "\n",
              "    .colab-df-convert {\n",
              "      background-color: #E8F0FE;\n",
              "      border: none;\n",
              "      border-radius: 50%;\n",
              "      cursor: pointer;\n",
              "      display: none;\n",
              "      fill: #1967D2;\n",
              "      height: 32px;\n",
              "      padding: 0 0 0 0;\n",
              "      width: 32px;\n",
              "    }\n",
              "\n",
              "    .colab-df-convert:hover {\n",
              "      background-color: #E2EBFA;\n",
              "      box-shadow: 0px 1px 2px rgba(60, 64, 67, 0.3), 0px 1px 3px 1px rgba(60, 64, 67, 0.15);\n",
              "      fill: #174EA6;\n",
              "    }\n",
              "\n",
              "    [theme=dark] .colab-df-convert {\n",
              "      background-color: #3B4455;\n",
              "      fill: #D2E3FC;\n",
              "    }\n",
              "\n",
              "    [theme=dark] .colab-df-convert:hover {\n",
              "      background-color: #434B5C;\n",
              "      box-shadow: 0px 1px 3px 1px rgba(0, 0, 0, 0.15);\n",
              "      filter: drop-shadow(0px 1px 2px rgba(0, 0, 0, 0.3));\n",
              "      fill: #FFFFFF;\n",
              "    }\n",
              "  </style>\n",
              "\n",
              "      <script>\n",
              "        const buttonEl =\n",
              "          document.querySelector('#df-99d84e57-0305-4ba8-ac97-ff6e0366e806 button.colab-df-convert');\n",
              "        buttonEl.style.display =\n",
              "          google.colab.kernel.accessAllowed ? 'block' : 'none';\n",
              "\n",
              "        async function convertToInteractive(key) {\n",
              "          const element = document.querySelector('#df-99d84e57-0305-4ba8-ac97-ff6e0366e806');\n",
              "          const dataTable =\n",
              "            await google.colab.kernel.invokeFunction('convertToInteractive',\n",
              "                                                     [key], {});\n",
              "          if (!dataTable) return;\n",
              "\n",
              "          const docLinkHtml = 'Like what you see? Visit the ' +\n",
              "            '<a target=\"_blank\" href=https://colab.research.google.com/notebooks/data_table.ipynb>data table notebook</a>'\n",
              "            + ' to learn more about interactive tables.';\n",
              "          element.innerHTML = '';\n",
              "          dataTable['output_type'] = 'display_data';\n",
              "          await google.colab.output.renderOutput(dataTable, element);\n",
              "          const docLink = document.createElement('div');\n",
              "          docLink.innerHTML = docLinkHtml;\n",
              "          element.appendChild(docLink);\n",
              "        }\n",
              "      </script>\n",
              "    </div>\n",
              "  </div>\n",
              "  "
            ]
          },
          "metadata": {},
          "execution_count": 6
        }
      ]
    },
    {
      "cell_type": "markdown",
      "source": [
        "For categort it should be int number, so we change the type of the column"
      ],
      "metadata": {
        "id": "0oqikq8vRyxb"
      }
    },
    {
      "cell_type": "code",
      "source": [
        "result = df.dtypes\n",
        "print(result)"
      ],
      "metadata": {
        "colab": {
          "base_uri": "https://localhost:8080/"
        },
        "id": "GBGznu3jR6Yy",
        "outputId": "89673de2-6151-48d9-dd0c-9e720e2b0a30"
      },
      "execution_count": null,
      "outputs": [
        {
          "output_type": "stream",
          "name": "stdout",
          "text": [
            "postDetail     object\n",
            "category      float64\n",
            "dtype: object\n"
          ]
        }
      ]
    },
    {
      "cell_type": "code",
      "source": [
        "df.isnull().sum()"
      ],
      "metadata": {
        "colab": {
          "base_uri": "https://localhost:8080/"
        },
        "id": "fp0K6G9lSi-i",
        "outputId": "f06be063-1d32-46d4-a011-164d6ba63d41"
      },
      "execution_count": null,
      "outputs": [
        {
          "output_type": "execute_result",
          "data": {
            "text/plain": [
              "postDetail    6\n",
              "category      8\n",
              "dtype: int64"
            ]
          },
          "metadata": {},
          "execution_count": 8
        }
      ]
    },
    {
      "cell_type": "code",
      "source": [
        "# drop the N/A row\n",
        "\n",
        "df=df.dropna()\n",
        "print(df.shape)\n",
        "df.isnull().sum()"
      ],
      "metadata": {
        "colab": {
          "base_uri": "https://localhost:8080/"
        },
        "id": "l-0KcdUsUTlS",
        "outputId": "cf22f37c-6ba5-4735-a15f-c3ca951aebaa"
      },
      "execution_count": null,
      "outputs": [
        {
          "output_type": "stream",
          "name": "stdout",
          "text": [
            "(1196, 2)\n"
          ]
        },
        {
          "output_type": "execute_result",
          "data": {
            "text/plain": [
              "postDetail    0\n",
              "category      0\n",
              "dtype: int64"
            ]
          },
          "metadata": {},
          "execution_count": 14
        }
      ]
    },
    {
      "cell_type": "code",
      "source": [
        "# drop the duplicated row\n",
        "df.drop_duplicates(keep='first', inplace=True)\n",
        "print(df.shape)\n",
        "df.isnull().sum()"
      ],
      "metadata": {
        "colab": {
          "base_uri": "https://localhost:8080/"
        },
        "id": "IMWGc3UPUbX4",
        "outputId": "35d4619d-d705-4cf6-8dd7-1f9a026781fc"
      },
      "execution_count": null,
      "outputs": [
        {
          "output_type": "stream",
          "name": "stdout",
          "text": [
            "(1196, 2)\n"
          ]
        },
        {
          "output_type": "execute_result",
          "data": {
            "text/plain": [
              "postDetail    0\n",
              "category      0\n",
              "dtype: int64"
            ]
          },
          "metadata": {},
          "execution_count": 15
        }
      ]
    },
    {
      "cell_type": "code",
      "source": [
        "df.to_csv(r'\\Users\\chunlan\\Research\\simple_project_newest\\final_message_clean.csv')\n",
        "\n",
        "# I can't find it in my folder, can't figure out why."
      ],
      "metadata": {
        "id": "ORNsNty2UnjY"
      },
      "execution_count": null,
      "outputs": []
    },
    {
      "cell_type": "code",
      "source": [
        "# check how many columns\n",
        "pd.DataFrame(df.category.unique()).values"
      ],
      "metadata": {
        "colab": {
          "base_uri": "https://localhost:8080/"
        },
        "id": "7hDce_rQVKpr",
        "outputId": "6e5b713d-4031-4436-d387-6530463782da"
      },
      "execution_count": null,
      "outputs": [
        {
          "output_type": "execute_result",
          "data": {
            "text/plain": [
              "array([[1.],\n",
              "       [4.],\n",
              "       [6.],\n",
              "       [5.],\n",
              "       [2.],\n",
              "       [3.]])"
            ]
          },
          "metadata": {},
          "execution_count": 17
        }
      ]
    },
    {
      "cell_type": "code",
      "source": [],
      "metadata": {
        "colab": {
          "base_uri": "https://localhost:8080/"
        },
        "id": "f0-A4ypMVNMQ",
        "outputId": "e1f1d13e-badb-49a6-a117-58934f30b956"
      },
      "execution_count": null,
      "outputs": [
        {
          "output_type": "stream",
          "name": "stdout",
          "text": [
            "(1196, 2)\n"
          ]
        },
        {
          "output_type": "execute_result",
          "data": {
            "text/plain": [
              "postDetail    0\n",
              "category      0\n",
              "dtype: int64"
            ]
          },
          "metadata": {},
          "execution_count": 54
        }
      ]
    },
    {
      "cell_type": "code",
      "source": [
        "# Now, we will map each of these categories to a number for good understanding\n",
        "\n",
        "mapping_dict = {1: 'Unauthorized_Discount', 2: 'Credit_Card_Fraud', 3: 'Drug_Dealing',4:\"Illegal_Wire_Transfer\", 5: 'Threft/sale_Personal_Information',6:\"Others\",}\n",
        "\n",
        "df['category_detail'] = df['category'].map(mapping_dict)"
      ],
      "metadata": {
        "id": "PE--2a3TX3N7"
      },
      "execution_count": null,
      "outputs": []
    },
    {
      "cell_type": "code",
      "source": [
        "# change the category from float to int\n",
        "df['category'] = df['category'].astype(int)\n",
        "result = df.dtypes\n",
        "print(result)\n",
        "\n",
        "df.head().T"
      ],
      "metadata": {
        "colab": {
          "base_uri": "https://localhost:8080/",
          "height": 276
        },
        "id": "cKacuB8YXe0e",
        "outputId": "9a227312-0c96-45e4-8905-1759b1d6a673"
      },
      "execution_count": null,
      "outputs": [
        {
          "output_type": "stream",
          "name": "stdout",
          "text": [
            "postDetail         object\n",
            "category            int64\n",
            "category_detail    object\n",
            "dtype: object\n"
          ]
        },
        {
          "output_type": "execute_result",
          "data": {
            "text/plain": [
              "                                                                 0  \\\n",
              "postDetail       $500.00:False:Active 50%  Sold$250.00:False:In...   \n",
              "category                                                         1   \n",
              "category_detail                              Unauthorized_Discount   \n",
              "\n",
              "                                                                 1  \\\n",
              "postDetail       $143.31:False:Active 50%   SOLD$130.19:False:A...   \n",
              "category                                                         1   \n",
              "category_detail                              Unauthorized_Discount   \n",
              "\n",
              "                                                                 3  \\\n",
              "postDetail       \\nalmost all vanilla are sold,please check the...   \n",
              "category                                                         1   \n",
              "category_detail                              Unauthorized_Discount   \n",
              "\n",
              "                                       5  \\\n",
              "postDetail       \\nsmooth trade\\n          \n",
              "category                               1   \n",
              "category_detail    Unauthorized_Discount   \n",
              "\n",
              "                                                                 6  \n",
              "postDetail       Sorry for the delay.Today's stock. DM @Bitconi...  \n",
              "category                                                         1  \n",
              "category_detail                              Unauthorized_Discount  "
            ],
            "text/html": [
              "\n",
              "  <div id=\"df-bebfc2b1-c32a-4e56-a214-c46d0a5652a6\">\n",
              "    <div class=\"colab-df-container\">\n",
              "      <div>\n",
              "<style scoped>\n",
              "    .dataframe tbody tr th:only-of-type {\n",
              "        vertical-align: middle;\n",
              "    }\n",
              "\n",
              "    .dataframe tbody tr th {\n",
              "        vertical-align: top;\n",
              "    }\n",
              "\n",
              "    .dataframe thead th {\n",
              "        text-align: right;\n",
              "    }\n",
              "</style>\n",
              "<table border=\"1\" class=\"dataframe\">\n",
              "  <thead>\n",
              "    <tr style=\"text-align: right;\">\n",
              "      <th></th>\n",
              "      <th>0</th>\n",
              "      <th>1</th>\n",
              "      <th>3</th>\n",
              "      <th>5</th>\n",
              "      <th>6</th>\n",
              "    </tr>\n",
              "  </thead>\n",
              "  <tbody>\n",
              "    <tr>\n",
              "      <th>postDetail</th>\n",
              "      <td>$500.00:False:Active 50%  Sold$250.00:False:In...</td>\n",
              "      <td>$143.31:False:Active 50%   SOLD$130.19:False:A...</td>\n",
              "      <td>\\nalmost all vanilla are sold,please check the...</td>\n",
              "      <td>\\nsmooth trade\\n</td>\n",
              "      <td>Sorry for the delay.Today's stock. DM @Bitconi...</td>\n",
              "    </tr>\n",
              "    <tr>\n",
              "      <th>category</th>\n",
              "      <td>1</td>\n",
              "      <td>1</td>\n",
              "      <td>1</td>\n",
              "      <td>1</td>\n",
              "      <td>1</td>\n",
              "    </tr>\n",
              "    <tr>\n",
              "      <th>category_detail</th>\n",
              "      <td>Unauthorized_Discount</td>\n",
              "      <td>Unauthorized_Discount</td>\n",
              "      <td>Unauthorized_Discount</td>\n",
              "      <td>Unauthorized_Discount</td>\n",
              "      <td>Unauthorized_Discount</td>\n",
              "    </tr>\n",
              "  </tbody>\n",
              "</table>\n",
              "</div>\n",
              "      <button class=\"colab-df-convert\" onclick=\"convertToInteractive('df-bebfc2b1-c32a-4e56-a214-c46d0a5652a6')\"\n",
              "              title=\"Convert this dataframe to an interactive table.\"\n",
              "              style=\"display:none;\">\n",
              "        \n",
              "  <svg xmlns=\"http://www.w3.org/2000/svg\" height=\"24px\"viewBox=\"0 0 24 24\"\n",
              "       width=\"24px\">\n",
              "    <path d=\"M0 0h24v24H0V0z\" fill=\"none\"/>\n",
              "    <path d=\"M18.56 5.44l.94 2.06.94-2.06 2.06-.94-2.06-.94-.94-2.06-.94 2.06-2.06.94zm-11 1L8.5 8.5l.94-2.06 2.06-.94-2.06-.94L8.5 2.5l-.94 2.06-2.06.94zm10 10l.94 2.06.94-2.06 2.06-.94-2.06-.94-.94-2.06-.94 2.06-2.06.94z\"/><path d=\"M17.41 7.96l-1.37-1.37c-.4-.4-.92-.59-1.43-.59-.52 0-1.04.2-1.43.59L10.3 9.45l-7.72 7.72c-.78.78-.78 2.05 0 2.83L4 21.41c.39.39.9.59 1.41.59.51 0 1.02-.2 1.41-.59l7.78-7.78 2.81-2.81c.8-.78.8-2.07 0-2.86zM5.41 20L4 18.59l7.72-7.72 1.47 1.35L5.41 20z\"/>\n",
              "  </svg>\n",
              "      </button>\n",
              "      \n",
              "  <style>\n",
              "    .colab-df-container {\n",
              "      display:flex;\n",
              "      flex-wrap:wrap;\n",
              "      gap: 12px;\n",
              "    }\n",
              "\n",
              "    .colab-df-convert {\n",
              "      background-color: #E8F0FE;\n",
              "      border: none;\n",
              "      border-radius: 50%;\n",
              "      cursor: pointer;\n",
              "      display: none;\n",
              "      fill: #1967D2;\n",
              "      height: 32px;\n",
              "      padding: 0 0 0 0;\n",
              "      width: 32px;\n",
              "    }\n",
              "\n",
              "    .colab-df-convert:hover {\n",
              "      background-color: #E2EBFA;\n",
              "      box-shadow: 0px 1px 2px rgba(60, 64, 67, 0.3), 0px 1px 3px 1px rgba(60, 64, 67, 0.15);\n",
              "      fill: #174EA6;\n",
              "    }\n",
              "\n",
              "    [theme=dark] .colab-df-convert {\n",
              "      background-color: #3B4455;\n",
              "      fill: #D2E3FC;\n",
              "    }\n",
              "\n",
              "    [theme=dark] .colab-df-convert:hover {\n",
              "      background-color: #434B5C;\n",
              "      box-shadow: 0px 1px 3px 1px rgba(0, 0, 0, 0.15);\n",
              "      filter: drop-shadow(0px 1px 2px rgba(0, 0, 0, 0.3));\n",
              "      fill: #FFFFFF;\n",
              "    }\n",
              "  </style>\n",
              "\n",
              "      <script>\n",
              "        const buttonEl =\n",
              "          document.querySelector('#df-bebfc2b1-c32a-4e56-a214-c46d0a5652a6 button.colab-df-convert');\n",
              "        buttonEl.style.display =\n",
              "          google.colab.kernel.accessAllowed ? 'block' : 'none';\n",
              "\n",
              "        async function convertToInteractive(key) {\n",
              "          const element = document.querySelector('#df-bebfc2b1-c32a-4e56-a214-c46d0a5652a6');\n",
              "          const dataTable =\n",
              "            await google.colab.kernel.invokeFunction('convertToInteractive',\n",
              "                                                     [key], {});\n",
              "          if (!dataTable) return;\n",
              "\n",
              "          const docLinkHtml = 'Like what you see? Visit the ' +\n",
              "            '<a target=\"_blank\" href=https://colab.research.google.com/notebooks/data_table.ipynb>data table notebook</a>'\n",
              "            + ' to learn more about interactive tables.';\n",
              "          element.innerHTML = '';\n",
              "          dataTable['output_type'] = 'display_data';\n",
              "          await google.colab.output.renderOutput(dataTable, element);\n",
              "          const docLink = document.createElement('div');\n",
              "          docLink.innerHTML = docLinkHtml;\n",
              "          element.appendChild(docLink);\n",
              "        }\n",
              "      </script>\n",
              "    </div>\n",
              "  </div>\n",
              "  "
            ]
          },
          "metadata": {},
          "execution_count": 23
        }
      ]
    },
    {
      "cell_type": "code",
      "source": [
        "# Visualize the data, and see how many numbers of postDetails are there per category. We use Bar chart here.\n",
        "\n"
      ],
      "metadata": {
        "colab": {
          "base_uri": "https://localhost:8080/"
        },
        "id": "qPlDlO-3cbHa",
        "outputId": "f009dbba-f4ee-4f51-f0c2-e8c110cb7227"
      },
      "execution_count": null,
      "outputs": [
        {
          "output_type": "stream",
          "name": "stdout",
          "text": [
            "postDetail         object\n",
            "category            int64\n",
            "category_detail    object\n",
            "dtype: object\n"
          ]
        }
      ]
    },
    {
      "cell_type": "code",
      "source": [
        "import seaborn as sns # used for plot interactive graph.\n",
        "import matplotlib.pyplot as plt\n",
        "import seaborn as sns\n",
        "from io import StringIO\n",
        "\n",
        "fig = plt.figure(figsize=(8,6))\n",
        "df.groupby('category_detail').category_detail.count().sort_values().plot.barh(\n",
        "    ylim=0, title= 'NUMBER OF POSTDETAILS IN EACH CATEGORY')\n",
        "plt.xlabel('Number of ocurrences', fontsize = 10);"
      ],
      "metadata": {
        "colab": {
          "base_uri": "https://localhost:8080/",
          "height": 564
        },
        "id": "UZi2fiXSfvJv",
        "outputId": "8573c6db-0d00-4df0-d0cc-6e29a4d42674"
      },
      "execution_count": null,
      "outputs": [
        {
          "output_type": "display_data",
          "data": {
            "text/plain": [
              "<Figure size 800x600 with 1 Axes>"
            ],
            "image/png": "[encoded data removed]"
          },
          "metadata": {}
        }
      ]
    },
    {
      "cell_type": "markdown",
      "source": [
        "#2.Text processing"
      ],
      "metadata": {
        "id": "kOzy-LvUbjF4"
      }
    },
    {
      "cell_type": "markdown",
      "source": [
        "The text needs to be preprocessed so that we can feed it to the classification algorithm. Here we will transform the texts into vectors using Term Frequency-Inverse Document Frequency (TFIDF) and evaluate how important a particular word is in the collection of words. For this we need to remove punctuations and do lower casing, then the word importance is determined in terms of frequency.\n",
        "\n",
        "We will be using TfidfVectorizer function with the below parameters:\n",
        "\n",
        "1.  min_df: remove the words which has occurred in less than ‘min_df’ number of files.\n",
        "2. Sublinear_tf: if True, then scale the frequency in logarithmic scale.\n",
        "3.  Stop_words: it removes stop words which are predefined in ‘english’.\n"
      ],
      "metadata": {
        "id": "WwkbA-A7KiHg"
      }
    },
    {
      "cell_type": "code",
      "source": [
        "from sklearn.feature_extraction.text import TfidfVectorizer\n",
        "import re\n",
        "\n",
        "import re\n",
        "#delete other\n",
        "def preprocess_text(text):\n",
        "    # just keep letter and numbers\n",
        "    processed_text = re.sub(r'[^a-zA-Z0-9]', ' ', text)\n",
        "    return processed_text\n"
      ],
      "metadata": {
        "id": "IZ74KJqnSaUT"
      },
      "execution_count": null,
      "outputs": []
    },
    {
      "cell_type": "code",
      "source": [
        "new_df = pd.DataFrame()\n",
        "new_df['clean_postdetail'] = df['postDetail'].apply(preprocess_text)\n",
        "new_df['category'] = df['category']\n",
        "new_df['category_detail'] = df['category_detail']\n",
        "new_df.head()\n",
        "\n"
      ],
      "metadata": {
        "colab": {
          "base_uri": "https://localhost:8080/",
          "height": 206
        },
        "id": "ux39IxIDTlr4",
        "outputId": "18e45b6b-f2f1-4d70-c582-c5a6b5a79890"
      },
      "execution_count": null,
      "outputs": [
        {
          "output_type": "execute_result",
          "data": {
            "text/plain": [
              "                                    clean_postdetail  category  \\\n",
              "0   500 00 False Active 50   Sold 250 00 False In...         1   \n",
              "1   143 31 False Active 50    SOLD 130 19 False A...         1   \n",
              "3   almost all vanilla are sold please check the ...         1   \n",
              "5                               smooth trade                 1   \n",
              "6  Sorry for the delay Today s stock  DM  Bitconi...         1   \n",
              "\n",
              "         category_detail  \n",
              "0  Unauthorized_Discount  \n",
              "1  Unauthorized_Discount  \n",
              "3  Unauthorized_Discount  \n",
              "5  Unauthorized_Discount  \n",
              "6  Unauthorized_Discount  "
            ],
            "text/html": [
              "\n",
              "  <div id=\"df-90c22303-9450-46d6-83f4-d08570b89813\">\n",
              "    <div class=\"colab-df-container\">\n",
              "      <div>\n",
              "<style scoped>\n",
              "    .dataframe tbody tr th:only-of-type {\n",
              "        vertical-align: middle;\n",
              "    }\n",
              "\n",
              "    .dataframe tbody tr th {\n",
              "        vertical-align: top;\n",
              "    }\n",
              "\n",
              "    .dataframe thead th {\n",
              "        text-align: right;\n",
              "    }\n",
              "</style>\n",
              "<table border=\"1\" class=\"dataframe\">\n",
              "  <thead>\n",
              "    <tr style=\"text-align: right;\">\n",
              "      <th></th>\n",
              "      <th>clean_postdetail</th>\n",
              "      <th>category</th>\n",
              "      <th>category_detail</th>\n",
              "    </tr>\n",
              "  </thead>\n",
              "  <tbody>\n",
              "    <tr>\n",
              "      <th>0</th>\n",
              "      <td>500 00 False Active 50   Sold 250 00 False In...</td>\n",
              "      <td>1</td>\n",
              "      <td>Unauthorized_Discount</td>\n",
              "    </tr>\n",
              "    <tr>\n",
              "      <th>1</th>\n",
              "      <td>143 31 False Active 50    SOLD 130 19 False A...</td>\n",
              "      <td>1</td>\n",
              "      <td>Unauthorized_Discount</td>\n",
              "    </tr>\n",
              "    <tr>\n",
              "      <th>3</th>\n",
              "      <td>almost all vanilla are sold please check the ...</td>\n",
              "      <td>1</td>\n",
              "      <td>Unauthorized_Discount</td>\n",
              "    </tr>\n",
              "    <tr>\n",
              "      <th>5</th>\n",
              "      <td>smooth trade</td>\n",
              "      <td>1</td>\n",
              "      <td>Unauthorized_Discount</td>\n",
              "    </tr>\n",
              "    <tr>\n",
              "      <th>6</th>\n",
              "      <td>Sorry for the delay Today s stock  DM  Bitconi...</td>\n",
              "      <td>1</td>\n",
              "      <td>Unauthorized_Discount</td>\n",
              "    </tr>\n",
              "  </tbody>\n",
              "</table>\n",
              "</div>\n",
              "      <button class=\"colab-df-convert\" onclick=\"convertToInteractive('df-90c22303-9450-46d6-83f4-d08570b89813')\"\n",
              "              title=\"Convert this dataframe to an interactive table.\"\n",
              "              style=\"display:none;\">\n",
              "        \n",
              "  <svg xmlns=\"http://www.w3.org/2000/svg\" height=\"24px\"viewBox=\"0 0 24 24\"\n",
              "       width=\"24px\">\n",
              "    <path d=\"M0 0h24v24H0V0z\" fill=\"none\"/>\n",
              "    <path d=\"M18.56 5.44l.94 2.06.94-2.06 2.06-.94-2.06-.94-.94-2.06-.94 2.06-2.06.94zm-11 1L8.5 8.5l.94-2.06 2.06-.94-2.06-.94L8.5 2.5l-.94 2.06-2.06.94zm10 10l.94 2.06.94-2.06 2.06-.94-2.06-.94-.94-2.06-.94 2.06-2.06.94z\"/><path d=\"M17.41 7.96l-1.37-1.37c-.4-.4-.92-.59-1.43-.59-.52 0-1.04.2-1.43.59L10.3 9.45l-7.72 7.72c-.78.78-.78 2.05 0 2.83L4 21.41c.39.39.9.59 1.41.59.51 0 1.02-.2 1.41-.59l7.78-7.78 2.81-2.81c.8-.78.8-2.07 0-2.86zM5.41 20L4 18.59l7.72-7.72 1.47 1.35L5.41 20z\"/>\n",
              "  </svg>\n",
              "      </button>\n",
              "      \n",
              "  <style>\n",
              "    .colab-df-container {\n",
              "      display:flex;\n",
              "      flex-wrap:wrap;\n",
              "      gap: 12px;\n",
              "    }\n",
              "\n",
              "    .colab-df-convert {\n",
              "      background-color: #E8F0FE;\n",
              "      border: none;\n",
              "      border-radius: 50%;\n",
              "      cursor: pointer;\n",
              "      display: none;\n",
              "      fill: #1967D2;\n",
              "      height: 32px;\n",
              "      padding: 0 0 0 0;\n",
              "      width: 32px;\n",
              "    }\n",
              "\n",
              "    .colab-df-convert:hover {\n",
              "      background-color: #E2EBFA;\n",
              "      box-shadow: 0px 1px 2px rgba(60, 64, 67, 0.3), 0px 1px 3px 1px rgba(60, 64, 67, 0.15);\n",
              "      fill: #174EA6;\n",
              "    }\n",
              "\n",
              "    [theme=dark] .colab-df-convert {\n",
              "      background-color: #3B4455;\n",
              "      fill: #D2E3FC;\n",
              "    }\n",
              "\n",
              "    [theme=dark] .colab-df-convert:hover {\n",
              "      background-color: #434B5C;\n",
              "      box-shadow: 0px 1px 3px 1px rgba(0, 0, 0, 0.15);\n",
              "      filter: drop-shadow(0px 1px 2px rgba(0, 0, 0, 0.3));\n",
              "      fill: #FFFFFF;\n",
              "    }\n",
              "  </style>\n",
              "\n",
              "      <script>\n",
              "        const buttonEl =\n",
              "          document.querySelector('#df-90c22303-9450-46d6-83f4-d08570b89813 button.colab-df-convert');\n",
              "        buttonEl.style.display =\n",
              "          google.colab.kernel.accessAllowed ? 'block' : 'none';\n",
              "\n",
              "        async function convertToInteractive(key) {\n",
              "          const element = document.querySelector('#df-90c22303-9450-46d6-83f4-d08570b89813');\n",
              "          const dataTable =\n",
              "            await google.colab.kernel.invokeFunction('convertToInteractive',\n",
              "                                                     [key], {});\n",
              "          if (!dataTable) return;\n",
              "\n",
              "          const docLinkHtml = 'Like what you see? Visit the ' +\n",
              "            '<a target=\"_blank\" href=https://colab.research.google.com/notebooks/data_table.ipynb>data table notebook</a>'\n",
              "            + ' to learn more about interactive tables.';\n",
              "          element.innerHTML = '';\n",
              "          dataTable['output_type'] = 'display_data';\n",
              "          await google.colab.output.renderOutput(dataTable, element);\n",
              "          const docLink = document.createElement('div');\n",
              "          docLink.innerHTML = docLinkHtml;\n",
              "          element.appendChild(docLink);\n",
              "        }\n",
              "      </script>\n",
              "    </div>\n",
              "  </div>\n",
              "  "
            ]
          },
          "metadata": {},
          "execution_count": 67
        }
      ]
    },
    {
      "cell_type": "code",
      "source": [
        "new_df.to_csv(r'\\Users\\chunlan\\Research\\simple_project_newest\\final_message_clean2.csv')"
      ],
      "metadata": {
        "id": "ZHVyX3mNsBqT"
      },
      "execution_count": null,
      "outputs": []
    },
    {
      "cell_type": "code",
      "source": [
        "pd.DataFrame(new_df.category.unique()).values"
      ],
      "metadata": {
        "colab": {
          "base_uri": "https://localhost:8080/"
        },
        "id": "ITyachJ0lAwc",
        "outputId": "b2a3a62c-2e59-47ea-833f-f0836af23331"
      },
      "execution_count": null,
      "outputs": [
        {
          "output_type": "execute_result",
          "data": {
            "text/plain": [
              "array([[1],\n",
              "       [4],\n",
              "       [6],\n",
              "       [5],\n",
              "       [2],\n",
              "       [3]])"
            ]
          },
          "metadata": {},
          "execution_count": 73
        }
      ]
    },
    {
      "cell_type": "code",
      "source": [
        "tfidf = TfidfVectorizer(sublinear_tf=True, min_df=5, ngram_range=(1, 2), stop_words='english')\n",
        "\n",
        "# We transform each poster into a vector\n",
        "\n",
        "features = tfidf.fit_transform(new_df.clean_postdetail).toarray()\n",
        "labels = df.category\n",
        "print(\"Each of the %d postdetails is represented by %d features (TF-IDF score of unigrams and bigrams)\" %(features.shape))\n"
      ],
      "metadata": {
        "colab": {
          "base_uri": "https://localhost:8080/"
        },
        "id": "bWXdNj9OOxxg",
        "outputId": "5c14d0bc-2531-47a6-fd6d-3449c2213b75"
      },
      "execution_count": null,
      "outputs": [
        {
          "output_type": "stream",
          "name": "stdout",
          "text": [
            "Each of the 1196 postdetails is represented by 1489 features (TF-IDF score of unigrams and bigrams)\n"
          ]
        }
      ]
    },
    {
      "cell_type": "markdown",
      "source": [
        "Now, we will find the most correlated terms with each of the defined product categories. Here we are finding only three most correlated terms."
      ],
      "metadata": {
        "id": "98z1QoVjMtrp"
      }
    },
    {
      "cell_type": "code",
      "source": [
        "category_id_df =new_df[['clean_postdetail', 'category']]\n",
        "# Dictionaries for future use\n",
        "category_to_id = dict(category_id_df.values)\n",
        "id_to_category = dict(category_id_df[['category', 'clean_postdetail']].values)"
      ],
      "metadata": {
        "id": "dMr1loHtP9wD"
      },
      "execution_count": null,
      "outputs": []
    },
    {
      "cell_type": "code",
      "source": [
        "df.to_csv(r'\\Users\\chunlan\\Research\\simple_project_newest\\final_message_clean.csv')"
      ],
      "metadata": {
        "id": "DnVD6NcRrxn2"
      },
      "execution_count": null,
      "outputs": []
    },
    {
      "cell_type": "code",
      "source": [
        "count=0\n",
        "for key, value in category_to_id.items():\n",
        "    print(key, value)\n",
        "    count += 1\n",
        "    if count == 10:\n",
        "        break"
      ],
      "metadata": {
        "colab": {
          "base_uri": "https://localhost:8080/"
        },
        "id": "_pscMEeylhqc",
        "outputId": "ccc5b2c5-9bae-4cfc-813f-b51830fee653"
      },
      "execution_count": null,
      "outputs": [
        {
          "output_type": "stream",
          "name": "stdout",
          "text": [
            " 500 00 False Active 50   Sold 250 00 False Inital 50     Sold  143 31 False Active 50    Sold  143 31 False Active 50    Sold 130 19 False Active 50    Sold 109 47 False Active 50    Sold 102 94 False Active 50    Sold 1\n",
            " 143 31 False Active 50    SOLD 130 19 False Active 50   SOLD 109 47 False Active 50   SOLD 102 94 False Active 50   SOLD 91 62 False Active 50   SOLD 89 20 False Active 50   SOLD 84 49 False Active 50  SOLD 78 98 False Active 50  SOLD 73 90 False Active 50  SOLD 73 76 False Active 50  SOLD  72 31 False Active 50  SOLD  64 59 False Active 50   SOLD 61 27 False Active 50   SOLD 59 03 False Active 50   SOLD 57 11 False Active 50   SOLD 56 23 False Active 50   SOLD 41 09 False Active 50   SOLD 38 92 False Active 50   SOLD BitconisandGC     BTC ONLY     1\n",
            " almost all vanilla are sold please check the update         1\n",
            " smooth trade         1\n",
            "Sorry for the delay Today s stock  DM  BitconisandGC to buy500 00  False  Sold429 33  False  Sold100 00  False  Sold100 00  False  Sold100 00  False  Sold100 00  False  Sold100 00  False  Sold100 00  False  Sold104 01  True   Sold102 21  True   Sold80 00  False     Sold 1\n",
            "thank you the 500 and the 2 100 cards all worked   1\n",
            "new vanilla stock 175 49 False Active 50    SOLD  166 13 False Active 50    SOLD 150 92 False Active 50    SOLD  137 04 False Active 50    SOLD 1\n",
            "Still have a few cards left429 33  False Active 50    Sold 175 49 False Active 50   Sold  166 13 False Active 50   Sold  150 92 False Active 50   Sold 1\n",
            "Amazon cards available now dm me for check the stock 50  Amazon GC   35  100  Amazon GC 60  200  Amazon GC 100  500  Amazon GC 210  1000  Amazon GC 350  2000  Amazon GC 580  1\n",
            "vanilla cards new stock 175 49 False Active 50  SOLD  166 13 False Active 50  SOLD  150 92 False Active 50  SOLD  137 04 False Active 50  SOLD 128 10 False Active 50  SOLD 1\n"
          ]
        }
      ]
    },
    {
      "cell_type": "markdown",
      "source": [
        " Finding the five most correlated terms with each of the product categories\n"
      ],
      "metadata": {
        "id": "Vx9NCZ9xf5xZ"
      }
    },
    {
      "cell_type": "code",
      "source": [
        "\"\"\"\n",
        "# Finding the three most correlated terms with each of the product categories\n",
        "N = 3\n",
        "for category_detail, category_id in sorted(category_to_id.items()):\n",
        "  features_chi2 = chi2(features, labels == category_id)\n",
        "  indices = np.argsort(features_chi2[0])\n",
        "  feature_names = np.array(tfidf.get_feature_names_out())[indices]\n",
        "  unigrams = [v for v in feature_names if len(v.split(' ')) == 1]\n",
        "  bigrams = [v for v in feature_names if len(v.split(' ')) == 2]\n",
        "  print(\"n==> %s:\" %(category))\n",
        "  print(\"  * Most Correlated Unigrams are: %s\" %(', '.join(unigrams[-N:])))\n",
        "  print(\"  * Most Correlated Bigrams are: %s\" %(', '.join(bigrams[-N:])))\n",
        "  \"\"\""
      ],
      "metadata": {
        "colab": {
          "base_uri": "https://localhost:8080/",
          "height": 89
        },
        "id": "WOirwiIvf97J",
        "outputId": "b8f4f7c4-1ea7-434a-d0d7-797cf217e6a9"
      },
      "execution_count": null,
      "outputs": [
        {
          "output_type": "execute_result",
          "data": {
            "text/plain": [
              "'\\n# Finding the three most correlated terms with each of the product categories\\nN = 3\\nfor category_detail, category_id in sorted(category_to_id.items()):\\n  features_chi2 = chi2(features, labels == category_id)\\n  indices = np.argsort(features_chi2[0])\\n  feature_names = np.array(tfidf.get_feature_names_out())[indices]\\n  unigrams = [v for v in feature_names if len(v.split(\\' \\')) == 1]\\n  bigrams = [v for v in feature_names if len(v.split(\\' \\')) == 2]\\n  print(\"n==> %s:\" %(category))\\n  print(\"  * Most Correlated Unigrams are: %s\" %(\\', \\'.join(unigrams[-N:])))\\n  print(\"  * Most Correlated Bigrams are: %s\" %(\\', \\'.join(bigrams[-N:])))\\n  '"
            ],
            "application/vnd.google.colaboratory.intrinsic+json": {
              "type": "string"
            }
          },
          "metadata": {},
          "execution_count": 86
        }
      ]
    },
    {
      "cell_type": "markdown",
      "source": [
        "#3.Exploring Multi-classification Models"
      ],
      "metadata": {
        "id": "9cGljRzcfheI"
      }
    },
    {
      "cell_type": "code",
      "source": [],
      "metadata": {
        "id": "Wv_q5bGVMvig"
      },
      "execution_count": null,
      "outputs": []
    }
  ]
}